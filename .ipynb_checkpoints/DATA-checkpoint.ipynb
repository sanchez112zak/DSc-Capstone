{
 "cells": [
  {
   "cell_type": "markdown",
   "metadata": {},
   "source": [
    "We will be using car accident data from ArcGIS that they have been collecting from 2004 until today. \n",
    "\n",
    "Variety of attributes will be used, these include: SEVERITYCODE (especially important for modelling), LOCATION (will affect probability of an accident along with other factors), INCDATE (we will be able to understand which days are most likely to be accident-free and which not), INCDTTM (time of the day will allow us to be more precise in modelling accidents and their severity), JUNCTIONTYPE (could potentially help us be more precise in modelling and predicting drivers: to be decided if it will be used or not), UNDERINFL (would allow us to understand when and where mostly driving under influence happens, so that we can reroute driver if it's high risk), WEATHER (if it's clear and sunny, there will be a much lower risk of an accident), ROADCOND (if it's a wet road the probability of an accident will increase by a lot), LIGHTCOND (driving at night will certainly increase risk of getting into an accident especially if coupled with some suburban location where there are no lights: we could re-route the driver), ST_COLCODE & HITPARKEDCAR (would allow us to be more precise with recommendation for drivers: e.g. look out for pedestrians and parked cars in 300m...).\n",
    "\n",
    "\n",
    "SDOTCOLCODE decided not to be used even though could be useful. But at this point the recommendations shouldn't be that detailed and its not yet clear how useful it will be. "
   ]
  },
  {
   "cell_type": "code",
   "execution_count": null,
   "metadata": {},
   "outputs": [],
   "source": []
  }
 ],
 "metadata": {
  "kernelspec": {
   "display_name": "Python 3",
   "language": "python",
   "name": "python3"
  },
  "language_info": {
   "codemirror_mode": {
    "name": "ipython",
    "version": 3
   },
   "file_extension": ".py",
   "mimetype": "text/x-python",
   "name": "python",
   "nbconvert_exporter": "python",
   "pygments_lexer": "ipython3",
   "version": "3.8.3"
  }
 },
 "nbformat": 4,
 "nbformat_minor": 4
}
