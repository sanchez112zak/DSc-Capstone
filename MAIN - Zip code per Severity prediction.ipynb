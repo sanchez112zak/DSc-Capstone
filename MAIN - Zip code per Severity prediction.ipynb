{
 "cells": [
  {
   "cell_type": "code",
   "execution_count": 1,
   "metadata": {},
   "outputs": [],
   "source": [
    "import pandas as pd\n",
    "import numpy as np"
   ]
  },
  {
   "cell_type": "code",
   "execution_count": 2,
   "metadata": {},
   "outputs": [
    {
     "name": "stderr",
     "output_type": "stream",
     "text": [
      "/Users/AZ/opt/anaconda3/envs/myenv/lib/python3.8/site-packages/IPython/core/interactiveshell.py:3145: DtypeWarning: Columns (33) have mixed types.Specify dtype option on import or set low_memory=False.\n",
      "  has_raised = await self.run_ast_nodes(code_ast.body, cell_name,\n"
     ]
    }
   ],
   "source": [
    "df1 = pd.read_csv(\"Data-Collisions-2.csv\")"
   ]
  },
  {
   "cell_type": "code",
   "execution_count": 3,
   "metadata": {
    "scrolled": false
   },
   "outputs": [
    {
     "data": {
      "text/html": [
       "<div>\n",
       "<style scoped>\n",
       "    .dataframe tbody tr th:only-of-type {\n",
       "        vertical-align: middle;\n",
       "    }\n",
       "\n",
       "    .dataframe tbody tr th {\n",
       "        vertical-align: top;\n",
       "    }\n",
       "\n",
       "    .dataframe thead th {\n",
       "        text-align: right;\n",
       "    }\n",
       "</style>\n",
       "<table border=\"1\" class=\"dataframe\">\n",
       "  <thead>\n",
       "    <tr style=\"text-align: right;\">\n",
       "      <th></th>\n",
       "      <th>SEVERITYCODE</th>\n",
       "      <th>X</th>\n",
       "      <th>Y</th>\n",
       "      <th>OBJECTID</th>\n",
       "      <th>INCKEY</th>\n",
       "      <th>COLDETKEY</th>\n",
       "      <th>INTKEY</th>\n",
       "      <th>SEVERITYCODE.1</th>\n",
       "      <th>PERSONCOUNT</th>\n",
       "      <th>PEDCOUNT</th>\n",
       "      <th>PEDCYLCOUNT</th>\n",
       "      <th>VEHCOUNT</th>\n",
       "      <th>SDOT_COLCODE</th>\n",
       "      <th>SDOTCOLNUM</th>\n",
       "      <th>SEGLANEKEY</th>\n",
       "      <th>CROSSWALKKEY</th>\n",
       "    </tr>\n",
       "  </thead>\n",
       "  <tbody>\n",
       "    <tr>\n",
       "      <th>SEVERITYCODE</th>\n",
       "      <td>1.000000</td>\n",
       "      <td>0.010309</td>\n",
       "      <td>0.017737</td>\n",
       "      <td>0.020131</td>\n",
       "      <td>0.022065</td>\n",
       "      <td>0.022079</td>\n",
       "      <td>0.006553</td>\n",
       "      <td>1.000000</td>\n",
       "      <td>0.130949</td>\n",
       "      <td>0.246338</td>\n",
       "      <td>0.214218</td>\n",
       "      <td>-0.054686</td>\n",
       "      <td>0.188905</td>\n",
       "      <td>0.004226</td>\n",
       "      <td>0.104276</td>\n",
       "      <td>0.175093</td>\n",
       "    </tr>\n",
       "    <tr>\n",
       "      <th>X</th>\n",
       "      <td>0.010309</td>\n",
       "      <td>1.000000</td>\n",
       "      <td>-0.160262</td>\n",
       "      <td>0.009956</td>\n",
       "      <td>0.010309</td>\n",
       "      <td>0.010300</td>\n",
       "      <td>0.120754</td>\n",
       "      <td>0.010309</td>\n",
       "      <td>0.012887</td>\n",
       "      <td>0.011304</td>\n",
       "      <td>-0.001752</td>\n",
       "      <td>-0.012168</td>\n",
       "      <td>0.010904</td>\n",
       "      <td>-0.001016</td>\n",
       "      <td>-0.001618</td>\n",
       "      <td>0.013586</td>\n",
       "    </tr>\n",
       "    <tr>\n",
       "      <th>Y</th>\n",
       "      <td>0.017737</td>\n",
       "      <td>-0.160262</td>\n",
       "      <td>1.000000</td>\n",
       "      <td>-0.023848</td>\n",
       "      <td>-0.027396</td>\n",
       "      <td>-0.027415</td>\n",
       "      <td>-0.114935</td>\n",
       "      <td>0.017737</td>\n",
       "      <td>-0.013850</td>\n",
       "      <td>0.010178</td>\n",
       "      <td>0.026304</td>\n",
       "      <td>0.017058</td>\n",
       "      <td>-0.019694</td>\n",
       "      <td>-0.006958</td>\n",
       "      <td>0.004618</td>\n",
       "      <td>0.009508</td>\n",
       "    </tr>\n",
       "    <tr>\n",
       "      <th>OBJECTID</th>\n",
       "      <td>0.020131</td>\n",
       "      <td>0.009956</td>\n",
       "      <td>-0.023848</td>\n",
       "      <td>1.000000</td>\n",
       "      <td>0.946383</td>\n",
       "      <td>0.945837</td>\n",
       "      <td>0.046929</td>\n",
       "      <td>0.020131</td>\n",
       "      <td>-0.062333</td>\n",
       "      <td>0.024604</td>\n",
       "      <td>0.034432</td>\n",
       "      <td>-0.094280</td>\n",
       "      <td>-0.037094</td>\n",
       "      <td>0.969276</td>\n",
       "      <td>0.028076</td>\n",
       "      <td>0.056046</td>\n",
       "    </tr>\n",
       "    <tr>\n",
       "      <th>INCKEY</th>\n",
       "      <td>0.022065</td>\n",
       "      <td>0.010309</td>\n",
       "      <td>-0.027396</td>\n",
       "      <td>0.946383</td>\n",
       "      <td>1.000000</td>\n",
       "      <td>0.999996</td>\n",
       "      <td>0.048524</td>\n",
       "      <td>0.022065</td>\n",
       "      <td>-0.061500</td>\n",
       "      <td>0.024918</td>\n",
       "      <td>0.031342</td>\n",
       "      <td>-0.107528</td>\n",
       "      <td>-0.027617</td>\n",
       "      <td>0.990571</td>\n",
       "      <td>0.019701</td>\n",
       "      <td>0.048179</td>\n",
       "    </tr>\n",
       "    <tr>\n",
       "      <th>COLDETKEY</th>\n",
       "      <td>0.022079</td>\n",
       "      <td>0.010300</td>\n",
       "      <td>-0.027415</td>\n",
       "      <td>0.945837</td>\n",
       "      <td>0.999996</td>\n",
       "      <td>1.000000</td>\n",
       "      <td>0.048499</td>\n",
       "      <td>0.022079</td>\n",
       "      <td>-0.061403</td>\n",
       "      <td>0.024914</td>\n",
       "      <td>0.031296</td>\n",
       "      <td>-0.107598</td>\n",
       "      <td>-0.027461</td>\n",
       "      <td>0.990571</td>\n",
       "      <td>0.019586</td>\n",
       "      <td>0.048063</td>\n",
       "    </tr>\n",
       "    <tr>\n",
       "      <th>INTKEY</th>\n",
       "      <td>0.006553</td>\n",
       "      <td>0.120754</td>\n",
       "      <td>-0.114935</td>\n",
       "      <td>0.046929</td>\n",
       "      <td>0.048524</td>\n",
       "      <td>0.048499</td>\n",
       "      <td>1.000000</td>\n",
       "      <td>0.006553</td>\n",
       "      <td>0.001886</td>\n",
       "      <td>-0.004784</td>\n",
       "      <td>0.000531</td>\n",
       "      <td>-0.012929</td>\n",
       "      <td>0.007114</td>\n",
       "      <td>0.032604</td>\n",
       "      <td>-0.010510</td>\n",
       "      <td>0.018420</td>\n",
       "    </tr>\n",
       "    <tr>\n",
       "      <th>SEVERITYCODE.1</th>\n",
       "      <td>1.000000</td>\n",
       "      <td>0.010309</td>\n",
       "      <td>0.017737</td>\n",
       "      <td>0.020131</td>\n",
       "      <td>0.022065</td>\n",
       "      <td>0.022079</td>\n",
       "      <td>0.006553</td>\n",
       "      <td>1.000000</td>\n",
       "      <td>0.130949</td>\n",
       "      <td>0.246338</td>\n",
       "      <td>0.214218</td>\n",
       "      <td>-0.054686</td>\n",
       "      <td>0.188905</td>\n",
       "      <td>0.004226</td>\n",
       "      <td>0.104276</td>\n",
       "      <td>0.175093</td>\n",
       "    </tr>\n",
       "    <tr>\n",
       "      <th>PERSONCOUNT</th>\n",
       "      <td>0.130949</td>\n",
       "      <td>0.012887</td>\n",
       "      <td>-0.013850</td>\n",
       "      <td>-0.062333</td>\n",
       "      <td>-0.061500</td>\n",
       "      <td>-0.061403</td>\n",
       "      <td>0.001886</td>\n",
       "      <td>0.130949</td>\n",
       "      <td>1.000000</td>\n",
       "      <td>-0.023464</td>\n",
       "      <td>-0.038809</td>\n",
       "      <td>0.380523</td>\n",
       "      <td>-0.128960</td>\n",
       "      <td>0.011784</td>\n",
       "      <td>-0.021383</td>\n",
       "      <td>-0.032258</td>\n",
       "    </tr>\n",
       "    <tr>\n",
       "      <th>PEDCOUNT</th>\n",
       "      <td>0.246338</td>\n",
       "      <td>0.011304</td>\n",
       "      <td>0.010178</td>\n",
       "      <td>0.024604</td>\n",
       "      <td>0.024918</td>\n",
       "      <td>0.024914</td>\n",
       "      <td>-0.004784</td>\n",
       "      <td>0.246338</td>\n",
       "      <td>-0.023464</td>\n",
       "      <td>1.000000</td>\n",
       "      <td>-0.016920</td>\n",
       "      <td>-0.261285</td>\n",
       "      <td>0.260393</td>\n",
       "      <td>0.021461</td>\n",
       "      <td>0.001810</td>\n",
       "      <td>0.565326</td>\n",
       "    </tr>\n",
       "    <tr>\n",
       "      <th>PEDCYLCOUNT</th>\n",
       "      <td>0.214218</td>\n",
       "      <td>-0.001752</td>\n",
       "      <td>0.026304</td>\n",
       "      <td>0.034432</td>\n",
       "      <td>0.031342</td>\n",
       "      <td>0.031296</td>\n",
       "      <td>0.000531</td>\n",
       "      <td>0.214218</td>\n",
       "      <td>-0.038809</td>\n",
       "      <td>-0.016920</td>\n",
       "      <td>1.000000</td>\n",
       "      <td>-0.253773</td>\n",
       "      <td>0.382521</td>\n",
       "      <td>0.034593</td>\n",
       "      <td>0.453657</td>\n",
       "      <td>0.109820</td>\n",
       "    </tr>\n",
       "    <tr>\n",
       "      <th>VEHCOUNT</th>\n",
       "      <td>-0.054686</td>\n",
       "      <td>-0.012168</td>\n",
       "      <td>0.017058</td>\n",
       "      <td>-0.094280</td>\n",
       "      <td>-0.107528</td>\n",
       "      <td>-0.107598</td>\n",
       "      <td>-0.012929</td>\n",
       "      <td>-0.054686</td>\n",
       "      <td>0.380523</td>\n",
       "      <td>-0.261285</td>\n",
       "      <td>-0.253773</td>\n",
       "      <td>1.000000</td>\n",
       "      <td>-0.365814</td>\n",
       "      <td>-0.023813</td>\n",
       "      <td>-0.122941</td>\n",
       "      <td>-0.200526</td>\n",
       "    </tr>\n",
       "    <tr>\n",
       "      <th>SDOT_COLCODE</th>\n",
       "      <td>0.188905</td>\n",
       "      <td>0.010904</td>\n",
       "      <td>-0.019694</td>\n",
       "      <td>-0.037094</td>\n",
       "      <td>-0.027617</td>\n",
       "      <td>-0.027461</td>\n",
       "      <td>0.007114</td>\n",
       "      <td>0.188905</td>\n",
       "      <td>-0.128960</td>\n",
       "      <td>0.260393</td>\n",
       "      <td>0.382521</td>\n",
       "      <td>-0.365814</td>\n",
       "      <td>1.000000</td>\n",
       "      <td>-0.041084</td>\n",
       "      <td>0.206835</td>\n",
       "      <td>0.189518</td>\n",
       "    </tr>\n",
       "    <tr>\n",
       "      <th>SDOTCOLNUM</th>\n",
       "      <td>0.004226</td>\n",
       "      <td>-0.001016</td>\n",
       "      <td>-0.006958</td>\n",
       "      <td>0.969276</td>\n",
       "      <td>0.990571</td>\n",
       "      <td>0.990571</td>\n",
       "      <td>0.032604</td>\n",
       "      <td>0.004226</td>\n",
       "      <td>0.011784</td>\n",
       "      <td>0.021461</td>\n",
       "      <td>0.034593</td>\n",
       "      <td>-0.023813</td>\n",
       "      <td>-0.041084</td>\n",
       "      <td>1.000000</td>\n",
       "      <td>0.066449</td>\n",
       "      <td>0.086228</td>\n",
       "    </tr>\n",
       "    <tr>\n",
       "      <th>SEGLANEKEY</th>\n",
       "      <td>0.104276</td>\n",
       "      <td>-0.001618</td>\n",
       "      <td>0.004618</td>\n",
       "      <td>0.028076</td>\n",
       "      <td>0.019701</td>\n",
       "      <td>0.019586</td>\n",
       "      <td>-0.010510</td>\n",
       "      <td>0.104276</td>\n",
       "      <td>-0.021383</td>\n",
       "      <td>0.001810</td>\n",
       "      <td>0.453657</td>\n",
       "      <td>-0.122941</td>\n",
       "      <td>0.206835</td>\n",
       "      <td>0.066449</td>\n",
       "      <td>1.000000</td>\n",
       "      <td>-0.003422</td>\n",
       "    </tr>\n",
       "    <tr>\n",
       "      <th>CROSSWALKKEY</th>\n",
       "      <td>0.175093</td>\n",
       "      <td>0.013586</td>\n",
       "      <td>0.009508</td>\n",
       "      <td>0.056046</td>\n",
       "      <td>0.048179</td>\n",
       "      <td>0.048063</td>\n",
       "      <td>0.018420</td>\n",
       "      <td>0.175093</td>\n",
       "      <td>-0.032258</td>\n",
       "      <td>0.565326</td>\n",
       "      <td>0.109820</td>\n",
       "      <td>-0.200526</td>\n",
       "      <td>0.189518</td>\n",
       "      <td>0.086228</td>\n",
       "      <td>-0.003422</td>\n",
       "      <td>1.000000</td>\n",
       "    </tr>\n",
       "  </tbody>\n",
       "</table>\n",
       "</div>"
      ],
      "text/plain": [
       "                SEVERITYCODE         X         Y  OBJECTID    INCKEY  \\\n",
       "SEVERITYCODE        1.000000  0.010309  0.017737  0.020131  0.022065   \n",
       "X                   0.010309  1.000000 -0.160262  0.009956  0.010309   \n",
       "Y                   0.017737 -0.160262  1.000000 -0.023848 -0.027396   \n",
       "OBJECTID            0.020131  0.009956 -0.023848  1.000000  0.946383   \n",
       "INCKEY              0.022065  0.010309 -0.027396  0.946383  1.000000   \n",
       "COLDETKEY           0.022079  0.010300 -0.027415  0.945837  0.999996   \n",
       "INTKEY              0.006553  0.120754 -0.114935  0.046929  0.048524   \n",
       "SEVERITYCODE.1      1.000000  0.010309  0.017737  0.020131  0.022065   \n",
       "PERSONCOUNT         0.130949  0.012887 -0.013850 -0.062333 -0.061500   \n",
       "PEDCOUNT            0.246338  0.011304  0.010178  0.024604  0.024918   \n",
       "PEDCYLCOUNT         0.214218 -0.001752  0.026304  0.034432  0.031342   \n",
       "VEHCOUNT           -0.054686 -0.012168  0.017058 -0.094280 -0.107528   \n",
       "SDOT_COLCODE        0.188905  0.010904 -0.019694 -0.037094 -0.027617   \n",
       "SDOTCOLNUM          0.004226 -0.001016 -0.006958  0.969276  0.990571   \n",
       "SEGLANEKEY          0.104276 -0.001618  0.004618  0.028076  0.019701   \n",
       "CROSSWALKKEY        0.175093  0.013586  0.009508  0.056046  0.048179   \n",
       "\n",
       "                COLDETKEY    INTKEY  SEVERITYCODE.1  PERSONCOUNT  PEDCOUNT  \\\n",
       "SEVERITYCODE     0.022079  0.006553        1.000000     0.130949  0.246338   \n",
       "X                0.010300  0.120754        0.010309     0.012887  0.011304   \n",
       "Y               -0.027415 -0.114935        0.017737    -0.013850  0.010178   \n",
       "OBJECTID         0.945837  0.046929        0.020131    -0.062333  0.024604   \n",
       "INCKEY           0.999996  0.048524        0.022065    -0.061500  0.024918   \n",
       "COLDETKEY        1.000000  0.048499        0.022079    -0.061403  0.024914   \n",
       "INTKEY           0.048499  1.000000        0.006553     0.001886 -0.004784   \n",
       "SEVERITYCODE.1   0.022079  0.006553        1.000000     0.130949  0.246338   \n",
       "PERSONCOUNT     -0.061403  0.001886        0.130949     1.000000 -0.023464   \n",
       "PEDCOUNT         0.024914 -0.004784        0.246338    -0.023464  1.000000   \n",
       "PEDCYLCOUNT      0.031296  0.000531        0.214218    -0.038809 -0.016920   \n",
       "VEHCOUNT        -0.107598 -0.012929       -0.054686     0.380523 -0.261285   \n",
       "SDOT_COLCODE    -0.027461  0.007114        0.188905    -0.128960  0.260393   \n",
       "SDOTCOLNUM       0.990571  0.032604        0.004226     0.011784  0.021461   \n",
       "SEGLANEKEY       0.019586 -0.010510        0.104276    -0.021383  0.001810   \n",
       "CROSSWALKKEY     0.048063  0.018420        0.175093    -0.032258  0.565326   \n",
       "\n",
       "                PEDCYLCOUNT  VEHCOUNT  SDOT_COLCODE  SDOTCOLNUM  SEGLANEKEY  \\\n",
       "SEVERITYCODE       0.214218 -0.054686      0.188905    0.004226    0.104276   \n",
       "X                 -0.001752 -0.012168      0.010904   -0.001016   -0.001618   \n",
       "Y                  0.026304  0.017058     -0.019694   -0.006958    0.004618   \n",
       "OBJECTID           0.034432 -0.094280     -0.037094    0.969276    0.028076   \n",
       "INCKEY             0.031342 -0.107528     -0.027617    0.990571    0.019701   \n",
       "COLDETKEY          0.031296 -0.107598     -0.027461    0.990571    0.019586   \n",
       "INTKEY             0.000531 -0.012929      0.007114    0.032604   -0.010510   \n",
       "SEVERITYCODE.1     0.214218 -0.054686      0.188905    0.004226    0.104276   \n",
       "PERSONCOUNT       -0.038809  0.380523     -0.128960    0.011784   -0.021383   \n",
       "PEDCOUNT          -0.016920 -0.261285      0.260393    0.021461    0.001810   \n",
       "PEDCYLCOUNT        1.000000 -0.253773      0.382521    0.034593    0.453657   \n",
       "VEHCOUNT          -0.253773  1.000000     -0.365814   -0.023813   -0.122941   \n",
       "SDOT_COLCODE       0.382521 -0.365814      1.000000   -0.041084    0.206835   \n",
       "SDOTCOLNUM         0.034593 -0.023813     -0.041084    1.000000    0.066449   \n",
       "SEGLANEKEY         0.453657 -0.122941      0.206835    0.066449    1.000000   \n",
       "CROSSWALKKEY       0.109820 -0.200526      0.189518    0.086228   -0.003422   \n",
       "\n",
       "                CROSSWALKKEY  \n",
       "SEVERITYCODE        0.175093  \n",
       "X                   0.013586  \n",
       "Y                   0.009508  \n",
       "OBJECTID            0.056046  \n",
       "INCKEY              0.048179  \n",
       "COLDETKEY           0.048063  \n",
       "INTKEY              0.018420  \n",
       "SEVERITYCODE.1      0.175093  \n",
       "PERSONCOUNT        -0.032258  \n",
       "PEDCOUNT            0.565326  \n",
       "PEDCYLCOUNT         0.109820  \n",
       "VEHCOUNT           -0.200526  \n",
       "SDOT_COLCODE        0.189518  \n",
       "SDOTCOLNUM          0.086228  \n",
       "SEGLANEKEY         -0.003422  \n",
       "CROSSWALKKEY        1.000000  "
      ]
     },
     "execution_count": 3,
     "metadata": {},
     "output_type": "execute_result"
    }
   ],
   "source": [
    "df1.corr()"
   ]
  },
  {
   "cell_type": "code",
   "execution_count": 4,
   "metadata": {},
   "outputs": [],
   "source": [
    "df1.drop(df1.columns.difference(['SEVERITYCODE','X','Y', 'WEATHER','ROADCOND','LIGHTCOND','PEDCOUNT','PEDCYLCOUNT']), 1, inplace=True)"
   ]
  },
  {
   "cell_type": "code",
   "execution_count": 120,
   "metadata": {},
   "outputs": [
    {
     "data": {
      "text/plain": [
       "Clear                       111135\n",
       "Raining                      33145\n",
       "Overcast                     27714\n",
       "Unknown                      15091\n",
       "Snowing                        907\n",
       "Other                          832\n",
       "Fog/Smog/Smoke                 569\n",
       "Sleet/Hail/Freezing Rain       113\n",
       "Blowing Sand/Dirt               56\n",
       "Severe Crosswind                25\n",
       "Partly Cloudy                    5\n",
       "Name: WEATHER, dtype: int64"
      ]
     },
     "execution_count": 120,
     "metadata": {},
     "output_type": "execute_result"
    }
   ],
   "source": [
    "df1['WEATHER'].value_counts()"
   ]
  },
  {
   "cell_type": "code",
   "execution_count": 121,
   "metadata": {},
   "outputs": [
    {
     "data": {
      "text/plain": [
       "Daylight                    116137\n",
       "Dark - Street Lights On      48507\n",
       "Unknown                      13473\n",
       "Dusk                          5902\n",
       "Dawn                          2502\n",
       "Dark - No Street Lights       1537\n",
       "Dark - Street Lights Off      1199\n",
       "Other                          235\n",
       "Dark - Unknown Lighting         11\n",
       "Name: LIGHTCOND, dtype: int64"
      ]
     },
     "execution_count": 121,
     "metadata": {},
     "output_type": "execute_result"
    }
   ],
   "source": [
    "df1['LIGHTCOND'].value_counts()"
   ]
  },
  {
   "cell_type": "code",
   "execution_count": 122,
   "metadata": {},
   "outputs": [
    {
     "data": {
      "text/plain": [
       "Dry               124510\n",
       "Wet                47474\n",
       "Unknown            15078\n",
       "Ice                 1209\n",
       "Snow/Slush          1004\n",
       "Other                132\n",
       "Standing Water       115\n",
       "Sand/Mud/Dirt         75\n",
       "Oil                   64\n",
       "Name: ROADCOND, dtype: int64"
      ]
     },
     "execution_count": 122,
     "metadata": {},
     "output_type": "execute_result"
    }
   ],
   "source": [
    "df1['ROADCOND'].value_counts()"
   ]
  },
  {
   "cell_type": "code",
   "execution_count": 5,
   "metadata": {},
   "outputs": [],
   "source": [
    "df = pd.read_csv(\"zipinfacc.csv\")"
   ]
  },
  {
   "cell_type": "code",
   "execution_count": 6,
   "metadata": {},
   "outputs": [],
   "source": [
    "df1.columns = ['SEVERITYCODE','lon','lat','PEDCOUNT','PEDCYLCOUNT','WEATHER','ROADCOND','LIGHTCOND']"
   ]
  },
  {
   "cell_type": "code",
   "execution_count": 7,
   "metadata": {},
   "outputs": [],
   "source": [
    "df_merged = df.merge(df1, how='outer', left_index=True, right_index=True)"
   ]
  },
  {
   "cell_type": "code",
   "execution_count": 8,
   "metadata": {},
   "outputs": [],
   "source": [
    "df_merged.drop(df_merged.columns[[0,1,4,5]], axis=1, inplace=True)"
   ]
  },
  {
   "cell_type": "code",
   "execution_count": 9,
   "metadata": {},
   "outputs": [],
   "source": [
    "df_merged20000 = df_merged.copy()"
   ]
  },
  {
   "cell_type": "code",
   "execution_count": 10,
   "metadata": {},
   "outputs": [],
   "source": [
    "df_merged20000=df_merged20000.apply(pd.to_numeric, errors='ignore')"
   ]
  },
  {
   "cell_type": "code",
   "execution_count": 11,
   "metadata": {},
   "outputs": [],
   "source": [
    "df_merged20000 = df_merged20000.dropna()"
   ]
  },
  {
   "cell_type": "code",
   "execution_count": 12,
   "metadata": {
    "scrolled": true
   },
   "outputs": [
    {
     "data": {
      "text/html": [
       "<div>\n",
       "<style scoped>\n",
       "    .dataframe tbody tr th:only-of-type {\n",
       "        vertical-align: middle;\n",
       "    }\n",
       "\n",
       "    .dataframe tbody tr th {\n",
       "        vertical-align: top;\n",
       "    }\n",
       "\n",
       "    .dataframe thead th {\n",
       "        text-align: right;\n",
       "    }\n",
       "</style>\n",
       "<table border=\"1\" class=\"dataframe\">\n",
       "  <thead>\n",
       "    <tr style=\"text-align: right;\">\n",
       "      <th></th>\n",
       "      <th>zipcode</th>\n",
       "      <th>SEVERITYCODE</th>\n",
       "      <th>PEDCOUNT</th>\n",
       "      <th>PEDCYLCOUNT</th>\n",
       "      <th>WEATHER</th>\n",
       "      <th>ROADCOND</th>\n",
       "      <th>LIGHTCOND</th>\n",
       "    </tr>\n",
       "  </thead>\n",
       "  <tbody>\n",
       "    <tr>\n",
       "      <th>0</th>\n",
       "      <td>17</td>\n",
       "      <td>2</td>\n",
       "      <td>0</td>\n",
       "      <td>0</td>\n",
       "      <td>4</td>\n",
       "      <td>8</td>\n",
       "      <td>5</td>\n",
       "    </tr>\n",
       "    <tr>\n",
       "      <th>1</th>\n",
       "      <td>1</td>\n",
       "      <td>1</td>\n",
       "      <td>0</td>\n",
       "      <td>0</td>\n",
       "      <td>6</td>\n",
       "      <td>8</td>\n",
       "      <td>2</td>\n",
       "    </tr>\n",
       "    <tr>\n",
       "      <th>2</th>\n",
       "      <td>0</td>\n",
       "      <td>1</td>\n",
       "      <td>0</td>\n",
       "      <td>0</td>\n",
       "      <td>4</td>\n",
       "      <td>0</td>\n",
       "      <td>5</td>\n",
       "    </tr>\n",
       "    <tr>\n",
       "      <th>3</th>\n",
       "      <td>3</td>\n",
       "      <td>1</td>\n",
       "      <td>0</td>\n",
       "      <td>0</td>\n",
       "      <td>1</td>\n",
       "      <td>0</td>\n",
       "      <td>5</td>\n",
       "    </tr>\n",
       "    <tr>\n",
       "      <th>4</th>\n",
       "      <td>7</td>\n",
       "      <td>2</td>\n",
       "      <td>0</td>\n",
       "      <td>0</td>\n",
       "      <td>6</td>\n",
       "      <td>8</td>\n",
       "      <td>5</td>\n",
       "    </tr>\n",
       "    <tr>\n",
       "      <th>...</th>\n",
       "      <td>...</td>\n",
       "      <td>...</td>\n",
       "      <td>...</td>\n",
       "      <td>...</td>\n",
       "      <td>...</td>\n",
       "      <td>...</td>\n",
       "      <td>...</td>\n",
       "    </tr>\n",
       "    <tr>\n",
       "      <th>184162</th>\n",
       "      <td>22</td>\n",
       "      <td>1</td>\n",
       "      <td>0</td>\n",
       "      <td>0</td>\n",
       "      <td>1</td>\n",
       "      <td>0</td>\n",
       "      <td>5</td>\n",
       "    </tr>\n",
       "    <tr>\n",
       "      <th>184163</th>\n",
       "      <td>2</td>\n",
       "      <td>1</td>\n",
       "      <td>0</td>\n",
       "      <td>0</td>\n",
       "      <td>1</td>\n",
       "      <td>0</td>\n",
       "      <td>2</td>\n",
       "    </tr>\n",
       "    <tr>\n",
       "      <th>184164</th>\n",
       "      <td>10</td>\n",
       "      <td>2</td>\n",
       "      <td>0</td>\n",
       "      <td>0</td>\n",
       "      <td>1</td>\n",
       "      <td>0</td>\n",
       "      <td>5</td>\n",
       "    </tr>\n",
       "    <tr>\n",
       "      <th>184165</th>\n",
       "      <td>2</td>\n",
       "      <td>1</td>\n",
       "      <td>0</td>\n",
       "      <td>0</td>\n",
       "      <td>1</td>\n",
       "      <td>0</td>\n",
       "      <td>7</td>\n",
       "    </tr>\n",
       "    <tr>\n",
       "      <th>184166</th>\n",
       "      <td>16</td>\n",
       "      <td>1</td>\n",
       "      <td>0</td>\n",
       "      <td>0</td>\n",
       "      <td>1</td>\n",
       "      <td>0</td>\n",
       "      <td>5</td>\n",
       "    </tr>\n",
       "  </tbody>\n",
       "</table>\n",
       "<p>179765 rows × 7 columns</p>\n",
       "</div>"
      ],
      "text/plain": [
       "        zipcode  SEVERITYCODE  PEDCOUNT  PEDCYLCOUNT  WEATHER  ROADCOND  \\\n",
       "0            17             2         0            0        4         8   \n",
       "1             1             1         0            0        6         8   \n",
       "2             0             1         0            0        4         0   \n",
       "3             3             1         0            0        1         0   \n",
       "4             7             2         0            0        6         8   \n",
       "...         ...           ...       ...          ...      ...       ...   \n",
       "184162       22             1         0            0        1         0   \n",
       "184163        2             1         0            0        1         0   \n",
       "184164       10             2         0            0        1         0   \n",
       "184165        2             1         0            0        1         0   \n",
       "184166       16             1         0            0        1         0   \n",
       "\n",
       "        LIGHTCOND  \n",
       "0               5  \n",
       "1               2  \n",
       "2               5  \n",
       "3               5  \n",
       "4               5  \n",
       "...           ...  \n",
       "184162          5  \n",
       "184163          2  \n",
       "184164          5  \n",
       "184165          7  \n",
       "184166          5  \n",
       "\n",
       "[179765 rows x 7 columns]"
      ]
     },
     "execution_count": 12,
     "metadata": {},
     "output_type": "execute_result"
    }
   ],
   "source": [
    "from sklearn import preprocessing\n",
    "le = preprocessing.LabelEncoder()\n",
    "import pandas as pd\n",
    "import numpy as np\n",
    "from sklearn.preprocessing import LabelEncoder\n",
    "\n",
    "# creating instance of labelencoder\n",
    "labelencoder = LabelEncoder()\n",
    "# Assigning numerical values and storing in another column\n",
    "df_merged20000['WEATHER'] = labelencoder.fit_transform(df_merged20000['WEATHER'])\n",
    "df_merged20000['ROADCOND'] = labelencoder.fit_transform(df_merged20000['ROADCOND'])\n",
    "df_merged20000['LIGHTCOND'] = labelencoder.fit_transform(df_merged20000['LIGHTCOND'])\n",
    "df_merged20000['zipcode'] = labelencoder.fit_transform(df_merged20000['zipcode'])\n",
    "\n",
    "df_merged20000"
   ]
  },
  {
   "cell_type": "markdown",
   "metadata": {},
   "source": [
    "df_merged20000.corr()"
   ]
  },
  {
   "cell_type": "markdown",
   "metadata": {},
   "source": [
    "df_test = pd.get_dummies(df_merged20000)"
   ]
  },
  {
   "cell_type": "markdown",
   "metadata": {},
   "source": [
    "df_test = pd.get_dummies(df_test, columns=['WEATHER'])\n",
    "df_test = pd.get_dummies(df_test, columns=['ROADCOND'])\n",
    "df_test = pd.get_dummies(df_test, columns=['LIGHTCOND'])"
   ]
  },
  {
   "cell_type": "markdown",
   "metadata": {},
   "source": [
    "df_test.drop(df_test[['zipcode','PEDCOUNT','PEDCYLCOUNT']], axis = 1, inplace=True)"
   ]
  },
  {
   "cell_type": "markdown",
   "metadata": {
    "collapsed": true
   },
   "source": [
    "df_test.corr()"
   ]
  },
  {
   "cell_type": "code",
   "execution_count": 123,
   "metadata": {},
   "outputs": [],
   "source": [
    "cols = df_merged20000.columns.tolist()"
   ]
  },
  {
   "cell_type": "code",
   "execution_count": 14,
   "metadata": {
    "scrolled": false
   },
   "outputs": [
    {
     "data": {
      "text/plain": [
       "1    125962\n",
       "2     53803\n",
       "Name: SEVERITYCODE, dtype: int64"
      ]
     },
     "execution_count": 14,
     "metadata": {},
     "output_type": "execute_result"
    }
   ],
   "source": [
    "df_merged20000['SEVERITYCODE'].value_counts()"
   ]
  },
  {
   "cell_type": "code",
   "execution_count": 15,
   "metadata": {},
   "outputs": [],
   "source": [
    "import pandas as pd\n",
    "import pylab as pl\n",
    "import numpy as np\n",
    "import scipy.optimize as opt\n",
    "from sklearn import preprocessing\n",
    "from sklearn.model_selection import train_test_split\n",
    "%matplotlib inline \n",
    "import matplotlib.pyplot as plt\n",
    "from sklearn import svm"
   ]
  },
  {
   "cell_type": "code",
   "execution_count": 16,
   "metadata": {
    "scrolled": true
   },
   "outputs": [
    {
     "data": {
      "text/plain": [
       "2    53803\n",
       "1    53803\n",
       "Name: SEVERITYCODE, dtype: int64"
      ]
     },
     "execution_count": 16,
     "metadata": {},
     "output_type": "execute_result"
    }
   ],
   "source": [
    "from sklearn.utils import resample\n",
    "\n",
    "# Separate majority and minority classes\n",
    "df_majority = df_merged20000[df_merged20000.SEVERITYCODE==1]\n",
    "df_minority = df_merged20000[df_merged20000.SEVERITYCODE==2]\n",
    " \n",
    "# Downsample majority class\n",
    "df_majority_downsampled = resample(df_majority, \n",
    "                                 replace=False,    # sample without replacement\n",
    "                                 n_samples=53803,     # to match minority class\n",
    "                                 random_state=123) # reproducible results\n",
    " \n",
    "# Combine minority class with downsampled majority class\n",
    "df_downsampled = pd.concat([df_majority_downsampled, df_minority])\n",
    " \n",
    "# Display new class counts\n",
    "df_downsampled.SEVERITYCODE.value_counts()\n"
   ]
  },
  {
   "cell_type": "code",
   "execution_count": 17,
   "metadata": {},
   "outputs": [],
   "source": [
    "df_features=df_downsampled.drop(df_downsampled[['SEVERITYCODE']], axis=1)"
   ]
  },
  {
   "cell_type": "code",
   "execution_count": 18,
   "metadata": {},
   "outputs": [
    {
     "data": {
      "text/plain": [
       "(107606, 6)"
      ]
     },
     "execution_count": 18,
     "metadata": {},
     "output_type": "execute_result"
    }
   ],
   "source": [
    "X = np.asarray(df_features)\n",
    "X.shape"
   ]
  },
  {
   "cell_type": "code",
   "execution_count": 19,
   "metadata": {},
   "outputs": [
    {
     "data": {
      "text/plain": [
       "(107606,)"
      ]
     },
     "execution_count": 19,
     "metadata": {},
     "output_type": "execute_result"
    }
   ],
   "source": [
    "df_downsampled['SEVERITYCODE'] = df_downsampled['SEVERITYCODE'].astype('int')\n",
    "y = np.asarray(df_downsampled['SEVERITYCODE'])\n",
    "y.shape"
   ]
  },
  {
   "cell_type": "code",
   "execution_count": 20,
   "metadata": {},
   "outputs": [],
   "source": [
    "X_train, X_test, y_train, y_test = train_test_split(\n",
    "    X, y, test_size=0.2, random_state=0)"
   ]
  },
  {
   "cell_type": "code",
   "execution_count": 21,
   "metadata": {},
   "outputs": [],
   "source": [
    "from sklearn.preprocessing import StandardScaler\n",
    "scaler = StandardScaler()\n",
    "scaler.fit(X_train)\n",
    "\n",
    "X_train = scaler.transform(X_train)\n",
    "X_test = scaler.transform(X_test)"
   ]
  },
  {
   "cell_type": "markdown",
   "metadata": {},
   "source": [
    "# SVM"
   ]
  },
  {
   "cell_type": "code",
   "execution_count": 22,
   "metadata": {},
   "outputs": [
    {
     "data": {
      "text/plain": [
       "0.5903726419477744"
      ]
     },
     "execution_count": 22,
     "metadata": {},
     "output_type": "execute_result"
    }
   ],
   "source": [
    "clf = svm.SVC(kernel='rbf', C=1).fit(X_train, y_train)\n",
    "clf.score(X_test, y_test)"
   ]
  },
  {
   "cell_type": "markdown",
   "metadata": {},
   "source": [
    "#  KNN"
   ]
  },
  {
   "cell_type": "code",
   "execution_count": 66,
   "metadata": {
    "scrolled": false
   },
   "outputs": [
    {
     "data": {
      "image/png": "[encoded data removed]",
      "text/plain": [
       "<Figure size 432x288 with 1 Axes>"
      ]
     },
     "metadata": {
      "needs_background": "light"
     },
     "output_type": "display_data"
    },
    {
     "name": "stdout",
     "output_type": "stream",
     "text": [
      "The best accuracy was with 0.5847969519561379 with k= 14\n"
     ]
    }
   ],
   "source": [
    "from sklearn.neighbors import KNeighborsClassifier\n",
    "from sklearn import metrics\n",
    "\n",
    "Ks = 25\n",
    "mean_acc = np.zeros((Ks-1))\n",
    "std_acc = np.zeros((Ks-1))\n",
    "ConfustionMx = [];\n",
    "for n in range(1,Ks):\n",
    "    #Train Model and Predict  \n",
    "    neigh = KNeighborsClassifier(n_neighbors = n).fit(X_train,y_train)\n",
    "    yhat=neigh.predict(X_test)\n",
    "    mean_acc[n-1] = metrics.accuracy_score(y_test, yhat)\n",
    "    std_acc[n-1]=np.std(yhat==y_test)/np.sqrt(yhat.shape[0])\n",
    "\n",
    "\n",
    "plt.plot(range(1,Ks),mean_acc,'g')\n",
    "plt.fill_between(range(1,Ks),mean_acc - 1 * std_acc,mean_acc + 1 * std_acc, alpha=0.10)\n",
    "plt.legend(('Accuracy ', '+/- 3xstd'))\n",
    "plt.ylabel('Accuracy ')\n",
    "plt.xlabel('Number of Neighbors (K)')\n",
    "plt.tight_layout()\n",
    "plt.show()\n",
    "\n",
    "print( \"The best accuracy was with\", mean_acc.max(), \"with k=\", mean_acc.argmax()+1 )"
   ]
  },
  {
   "cell_type": "code",
   "execution_count": 31,
   "metadata": {},
   "outputs": [
    {
     "data": {
      "text/plain": [
       "KNeighborsClassifier(n_neighbors=14)"
      ]
     },
     "execution_count": 31,
     "metadata": {},
     "output_type": "execute_result"
    }
   ],
   "source": [
    "neigh = KNeighborsClassifier(n_neighbors = 14).fit(X_train,y_train)\n",
    "neigh"
   ]
  },
  {
   "cell_type": "markdown",
   "metadata": {},
   "source": [
    "# Decision Tree"
   ]
  },
  {
   "cell_type": "code",
   "execution_count": 42,
   "metadata": {
    "scrolled": true
   },
   "outputs": [
    {
     "data": {
      "text/plain": [
       "DecisionTreeClassifier(criterion='entropy', max_depth=8)"
      ]
     },
     "execution_count": 42,
     "metadata": {},
     "output_type": "execute_result"
    }
   ],
   "source": [
    "from sklearn.tree import DecisionTreeClassifier\n",
    "\n",
    "loanTree = DecisionTreeClassifier(criterion=\"entropy\", max_depth = 8)\n",
    "loanTree.fit(X_train,y_train)\n",
    "loanTree"
   ]
  },
  {
   "cell_type": "markdown",
   "metadata": {},
   "source": [
    "# Log Regression"
   ]
  },
  {
   "cell_type": "code",
   "execution_count": 43,
   "metadata": {},
   "outputs": [
    {
     "data": {
      "text/plain": [
       "LogisticRegression(C=0.01)"
      ]
     },
     "execution_count": 43,
     "metadata": {},
     "output_type": "execute_result"
    }
   ],
   "source": [
    "from sklearn.linear_model import LogisticRegression\n",
    "\n",
    "LR = LogisticRegression(C=0.01).fit(X_train,y_train)\n",
    "LR"
   ]
  },
  {
   "cell_type": "markdown",
   "metadata": {},
   "source": [
    "# Model Evaluation + Tests"
   ]
  },
  {
   "cell_type": "code",
   "execution_count": 32,
   "metadata": {},
   "outputs": [],
   "source": [
    "from sklearn.metrics import jaccard_score\n",
    "from sklearn.metrics import f1_score\n",
    "from sklearn.metrics import log_loss\n",
    "from sklearn.metrics import mean_squared_error\n",
    "from sklearn.metrics import classification_report, confusion_matrix\n",
    "import itertools"
   ]
  },
  {
   "cell_type": "markdown",
   "metadata": {},
   "source": [
    "### SVM"
   ]
  },
  {
   "cell_type": "code",
   "execution_count": 132,
   "metadata": {},
   "outputs": [
    {
     "name": "stdout",
     "output_type": "stream",
     "text": [
      "SVM Jaccard index:  0.5157374347706674\n",
      "SVM F1-score:  0.5541309035932416\n"
     ]
    }
   ],
   "source": [
    "yhat_svm = clf.predict(X_test)\n",
    "\n",
    "jaccard_svm = jaccard_score(y_test, yhat_svm)\n",
    "print(\"SVM Jaccard index: \", jaccard_svm)\n",
    "\n",
    "f1_score_svm = f1_score(y_test, yhat_svm, average='weighted')\n",
    "print(\"SVM F1-score: \", f1_score_svm)"
   ]
  },
  {
   "cell_type": "code",
   "execution_count": 34,
   "metadata": {},
   "outputs": [],
   "source": [
    "def plot_confusion_matrix(cm, classes,\n",
    "                          normalize=False,\n",
    "                          title='Confusion matrix',\n",
    "                          cmap=plt.cm.Blues):\n",
    "    \"\"\"\n",
    "    This function prints and plots the confusion matrix.\n",
    "    Normalization can be applied by setting `normalize=True`.\n",
    "    \"\"\"\n",
    "    if normalize:\n",
    "        cm = cm.astype('float') / cm.sum(axis=1)[:, np.newaxis]\n",
    "        print(\"Normalized confusion matrix\")\n",
    "    else:\n",
    "        print('Confusion matrix, without normalization')\n",
    "\n",
    "    print(cm)\n",
    "\n",
    "    plt.imshow(cm, interpolation='nearest', cmap=cmap)\n",
    "    plt.title(title)\n",
    "    plt.colorbar()\n",
    "    tick_marks = np.arange(len(classes))\n",
    "    plt.xticks(tick_marks, classes, rotation=45)\n",
    "    plt.yticks(tick_marks, classes)\n",
    "\n",
    "    fmt = '.2f' if normalize else 'd'\n",
    "    thresh = cm.max() / 2.\n",
    "    for i, j in itertools.product(range(cm.shape[0]), range(cm.shape[1])):\n",
    "        plt.text(j, i, format(cm[i, j], fmt),\n",
    "                 horizontalalignment=\"center\",\n",
    "                 color=\"white\" if cm[i, j] > thresh else \"black\")\n",
    "\n",
    "    plt.tight_layout()\n",
    "    plt.ylabel('True label')\n",
    "    plt.xlabel('Predicted label')"
   ]
  },
  {
   "cell_type": "code",
   "execution_count": 72,
   "metadata": {
    "scrolled": true
   },
   "outputs": [
    {
     "name": "stdout",
     "output_type": "stream",
     "text": [
      "Confusion matrix, without normalization\n",
      "[[9389 1302]\n",
      " [7514 3317]]\n"
     ]
    },
    {
     "data": {
      "image/png": "[encoded data removed]",
      "text/plain": [
       "<Figure size 432x288 with 2 Axes>"
      ]
     },
     "metadata": {
      "needs_background": "light"
     },
     "output_type": "display_data"
    }
   ],
   "source": [
    "# Compute confusion matrix\n",
    "cnf_matrix = confusion_matrix(y_test, yhat_svm, labels=[1,2])\n",
    "np.set_printoptions(precision=2)\n",
    "\n",
    "# Plot non-normalized confusion matrix\n",
    "plt.figure()\n",
    "plot_confusion_matrix(cnf_matrix, classes=['Low(1)','Mid(2)'],normalize= False,  title='SVM Confusion matrix')"
   ]
  },
  {
   "cell_type": "code",
   "execution_count": 126,
   "metadata": {},
   "outputs": [
    {
     "name": "stdout",
     "output_type": "stream",
     "text": [
      "              precision    recall  f1-score   support\n",
      "\n",
      "           1       0.56      0.88      0.68     10691\n",
      "           2       0.72      0.31      0.43     10831\n",
      "\n",
      "    accuracy                           0.59     21522\n",
      "   macro avg       0.64      0.59      0.55     21522\n",
      "weighted avg       0.64      0.59      0.55     21522\n",
      "\n"
     ]
    }
   ],
   "source": [
    "print (classification_report(y_test, yhat_svm))"
   ]
  },
  {
   "cell_type": "markdown",
   "metadata": {},
   "source": [
    "### KNN"
   ]
  },
  {
   "cell_type": "code",
   "execution_count": 133,
   "metadata": {
    "scrolled": true
   },
   "outputs": [
    {
     "name": "stdout",
     "output_type": "stream",
     "text": [
      "KNN Jaccard index:  0.4615799892028073\n",
      "KNN F1-score:  0.575161354282796\n"
     ]
    }
   ],
   "source": [
    "yhat_knn = neigh.predict(X_test)\n",
    "\n",
    "jaccard_knn = jaccard_score(y_test, yhat_knn)\n",
    "print(\"KNN Jaccard index: \", jaccard_knn)\n",
    "\n",
    "f1_score_knn = f1_score(y_test, yhat_knn, average='weighted')\n",
    "print(\"KNN F1-score: \", f1_score_knn)"
   ]
  },
  {
   "cell_type": "code",
   "execution_count": 141,
   "metadata": {
    "scrolled": false
   },
   "outputs": [
    {
     "name": "stdout",
     "output_type": "stream",
     "text": [
      "Confusion matrix, without normalization\n",
      "[[7695 2996]\n",
      " [5980 4851]]\n"
     ]
    },
    {
     "data": {
      "image/png": "[encoded data removed]",
      "text/plain": [
       "<Figure size 432x288 with 2 Axes>"
      ]
     },
     "metadata": {
      "needs_background": "light"
     },
     "output_type": "display_data"
    }
   ],
   "source": [
    "# Compute confusion matrix\n",
    "cnf_matrix = confusion_matrix(y_test, yhat_knn, labels=[1,2])\n",
    "np.set_printoptions(precision=2)\n",
    "\n",
    "\n",
    "# Plot non-normalized confusion matrix\n",
    "plt.figure()\n",
    "plot_confusion_matrix(cnf_matrix, classes=['Low(1)','Mid(2)'],normalize= False,  title='KNN Confusion matrix')"
   ]
  },
  {
   "cell_type": "code",
   "execution_count": 140,
   "metadata": {},
   "outputs": [
    {
     "name": "stdout",
     "output_type": "stream",
     "text": [
      "              precision    recall  f1-score   support\n",
      "\n",
      "           1       0.56      0.72      0.63     10691\n",
      "           2       0.62      0.45      0.52     10831\n",
      "\n",
      "    accuracy                           0.58     21522\n",
      "   macro avg       0.59      0.58      0.58     21522\n",
      "weighted avg       0.59      0.58      0.58     21522\n",
      "\n"
     ]
    }
   ],
   "source": [
    "print (classification_report(y_test, yhat_knn))"
   ]
  },
  {
   "cell_type": "markdown",
   "metadata": {},
   "source": [
    "### DT"
   ]
  },
  {
   "cell_type": "code",
   "execution_count": 147,
   "metadata": {},
   "outputs": [
    {
     "name": "stdout",
     "output_type": "stream",
     "text": [
      "Decision Tree Jaccard index:  0.5151014109347443\n",
      "Decision Tree F1-score:  0.5563582285731767\n"
     ]
    }
   ],
   "source": [
    "yhat_dt = loanTree.predict(X_test)\n",
    "\n",
    "jaccard_dt = jaccard_score(y_test, yhat_dt)\n",
    "print(\"Decision Tree Jaccard index: \", jaccard_dt)\n",
    "\n",
    "f1_score_dt = f1_score(y_test, yhat_dt, average='weighted')\n",
    "print(\"Decision Tree F1-score: \", f1_score_dt)"
   ]
  },
  {
   "cell_type": "code",
   "execution_count": 77,
   "metadata": {},
   "outputs": [
    {
     "name": "stdout",
     "output_type": "stream",
     "text": [
      "Confusion matrix, without normalization\n",
      "[[9346 1345]\n",
      " [7453 3378]]\n"
     ]
    },
    {
     "data": {
      "image/png": "[encoded data removed]",
      "text/plain": [
       "<Figure size 432x288 with 2 Axes>"
      ]
     },
     "metadata": {
      "needs_background": "light"
     },
     "output_type": "display_data"
    }
   ],
   "source": [
    "# Compute confusion matrix\n",
    "cnf_matrix = confusion_matrix(y_test, yhat_dt, labels=[1,2])\n",
    "np.set_printoptions(precision=2)\n",
    "\n",
    "\n",
    "# Plot non-normalized confusion matrix\n",
    "plt.figure()\n",
    "plot_confusion_matrix(cnf_matrix, classes=['Low(1)','Mid(2)'],normalize= False,  title='DT Confusion matrix')"
   ]
  },
  {
   "cell_type": "code",
   "execution_count": 137,
   "metadata": {},
   "outputs": [
    {
     "name": "stdout",
     "output_type": "stream",
     "text": [
      "              precision    recall  f1-score   support\n",
      "\n",
      "           1       0.56      0.87      0.68     10691\n",
      "           2       0.72      0.31      0.43     10831\n",
      "\n",
      "    accuracy                           0.59     21522\n",
      "   macro avg       0.64      0.59      0.56     21522\n",
      "weighted avg       0.64      0.59      0.56     21522\n",
      "\n"
     ]
    }
   ],
   "source": [
    "print (classification_report(y_test, yhat_dt))"
   ]
  },
  {
   "cell_type": "markdown",
   "metadata": {},
   "source": [
    "### LR"
   ]
  },
  {
   "cell_type": "code",
   "execution_count": 135,
   "metadata": {},
   "outputs": [
    {
     "name": "stdout",
     "output_type": "stream",
     "text": [
      "Logistic Regression Jaccard index:  0.4854613703848955\n",
      "Logistic Regression F1-score:  0.5483300735978274\n",
      "Logistic Regression log loss:  0.6293661220122513\n"
     ]
    }
   ],
   "source": [
    "yhat_lg = LR.predict(X_test)\n",
    "yhat_lg_prob = LR.predict_proba(X_test)\n",
    "\n",
    "jaccard_lg = jaccard_score(y_test, yhat_lg)\n",
    "print(\"Logistic Regression Jaccard index: \", jaccard_lg)\n",
    "\n",
    "f1_score_lg = f1_score(y_test, yhat_lg, average='weighted')\n",
    "print(\"Logistic Regression F1-score: \", f1_score_lg)\n",
    "\n",
    "logloss_lg = log_loss(y_test, yhat_lg_prob)\n",
    "print(\"Logistic Regression log loss: \", logloss_lg)"
   ]
  },
  {
   "cell_type": "code",
   "execution_count": 81,
   "metadata": {
    "scrolled": true
   },
   "outputs": [
    {
     "name": "stdout",
     "output_type": "stream",
     "text": [
      "Confusion matrix, without normalization\n",
      "[[8665 2026]\n",
      " [7158 3673]]\n"
     ]
    },
    {
     "data": {
      "image/png": "[encoded data removed]",
      "text/plain": [
       "<Figure size 432x288 with 2 Axes>"
      ]
     },
     "metadata": {
      "needs_background": "light"
     },
     "output_type": "display_data"
    }
   ],
   "source": [
    "# Compute confusion matrix\n",
    "cnf_matrix = confusion_matrix(y_test, yhat_lg, labels=[1,2])\n",
    "np.set_printoptions(precision=2)\n",
    "\n",
    "\n",
    "# Plot non-normalized confusion matrix\n",
    "plt.figure()\n",
    "plot_confusion_matrix(cnf_matrix, classes=['Low(1)','Mid(2)'],normalize= False,  title='LR Confusion matrix')"
   ]
  },
  {
   "cell_type": "code",
   "execution_count": 136,
   "metadata": {},
   "outputs": [
    {
     "name": "stdout",
     "output_type": "stream",
     "text": [
      "              precision    recall  f1-score   support\n",
      "\n",
      "           1       0.55      0.81      0.65     10691\n",
      "           2       0.64      0.34      0.44     10831\n",
      "\n",
      "    accuracy                           0.57     21522\n",
      "   macro avg       0.60      0.57      0.55     21522\n",
      "weighted avg       0.60      0.57      0.55     21522\n",
      "\n"
     ]
    }
   ],
   "source": [
    "print (classification_report(y_test, yhat_lg))"
   ]
  },
  {
   "cell_type": "markdown",
   "metadata": {},
   "source": [
    "| Algorithm          | Jaccard | F1-score | LogLoss |\n",
    "|--------------------|---------|----------|---------|\n",
    "| KNN                | 0.461       | 0.575        | NA      |\n",
    "| DT      | 0.515       | 0.556        | NA      |\n",
    "| SVM                | 0.516       | 0.554        | NA      |\n",
    "| LR | 0.485       | 0.548        | 0.629       |"
   ]
  },
  {
   "cell_type": "code",
   "execution_count": null,
   "metadata": {},
   "outputs": [],
   "source": []
  }
 ],
 "metadata": {
  "kernelspec": {
   "display_name": "Python 3",
   "language": "python",
   "name": "python3"
  },
  "language_info": {
   "codemirror_mode": {
    "name": "ipython",
    "version": 3
   },
   "file_extension": ".py",
   "mimetype": "text/x-python",
   "name": "python",
   "nbconvert_exporter": "python",
   "pygments_lexer": "ipython3",
   "version": "3.8.2"
  }
 },
 "nbformat": 4,
 "nbformat_minor": 4
}
