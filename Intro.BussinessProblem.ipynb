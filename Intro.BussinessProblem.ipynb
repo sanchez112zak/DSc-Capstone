{
 "cells": [
  {
   "cell_type": "markdown",
   "metadata": {},
   "source": [
    "According to IIHS, in 2018 there were 36560 car-related deaths in the USA. Understanding root causes and developing predictive data-based models could play a significant role in reduction of the number of fatalities. Over the years ArcGIS has been collecting a lot of data on car accidents as well as factors that could influence the probability of a collision (e.g. road conditions, light conditions, weather and more). Using this dataset we will try to implement a model that would allow us to predict the probability of an accident when certain conditions are occuring (e.g. what is the probability of an accident today, given that it's a sunny morning with little traffic and I'm driving from Seattle to Mt. Vernon). This could later be integrated into GPS solutions as a value added services that would warn drivers about potential danger and re-route them accordingly (if desired). "
   ]
  },
  {
   "cell_type": "code",
   "execution_count": null,
   "metadata": {},
   "outputs": [],
   "source": []
  }
 ],
 "metadata": {
  "kernelspec": {
   "display_name": "Python 3",
   "language": "python",
   "name": "python3"
  },
  "language_info": {
   "codemirror_mode": {
    "name": "ipython",
    "version": 3
   },
   "file_extension": ".py",
   "mimetype": "text/x-python",
   "name": "python",
   "nbconvert_exporter": "python",
   "pygments_lexer": "ipython3",
   "version": "3.8.3"
  }
 },
 "nbformat": 4,
 "nbformat_minor": 4
}
